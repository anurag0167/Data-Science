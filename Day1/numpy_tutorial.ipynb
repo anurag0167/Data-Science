{
 "cells": [
  {
   "cell_type": "code",
   "execution_count": 1,
   "metadata": {},
   "outputs": [],
   "source": [
    "# add some library which is used in our revision\n",
    "import os\n",
    "import numpy as np"
   ]
  },
  {
   "cell_type": "code",
   "execution_count": 2,
   "metadata": {},
   "outputs": [
    {
     "data": {
      "text/plain": [
       "'\\nWhy Numpy ?\\n\\n1. ndarray, a fast and space-efficient multidimensional array providing vectorized arithmetic operations and sophisticated broadcasting capabilities\\n2. Standard mathematical functions for fast operations on entire arrays of data without having to write loops\\n3. Tools for reading / writing array data to disk and working with memory-mapped files\\n4. Linear algebra, random number generation, and Fourier transform capabilities\\n5. Tools for integrating code written in C, C++, and Fortran\\n'"
      ]
     },
     "execution_count": 2,
     "metadata": {},
     "output_type": "execute_result"
    }
   ],
   "source": [
    "'''\n",
    "Why Numpy ?\n",
    "\n",
    "1. ndarray, a fast and space-efficient multidimensional array providing vectorized \\\n",
    "arithmetic operations and sophisticated broadcasting capabilities\n",
    "2. Standard mathematical functions for fast operations on entire arrays of data \\\n",
    "without having to write loops\n",
    "3. Tools for reading / writing array data to disk and working with memory-mapped \\\n",
    "files\n",
    "4. Linear algebra, random number generation, and Fourier transform capabilities\n",
    "5. Tools for integrating code written in C, C++, and Fortran\n",
    "'''"
   ]
  },
  {
   "cell_type": "code",
   "execution_count": 3,
   "metadata": {},
   "outputs": [
    {
     "name": "stdout",
     "output_type": "stream",
     "text": [
      "[[ 0.9526 -0.246  -0.8856]\n",
      " [ 0.5639  0.2379  0.9104]]\n"
     ]
    }
   ],
   "source": [
    "# lets create some data\n",
    "# array creation using numpy\n",
    "ls1 = [[0.9526, -0.246 , -0.8856],\n",
    "       [0.5639, 0.2379, 0.9104]]\n",
    "\n",
    "data = np.array(ls1)\n",
    "print(data)"
   ]
  },
  {
   "cell_type": "code",
   "execution_count": 4,
   "metadata": {},
   "outputs": [
    {
     "name": "stdout",
     "output_type": "stream",
     "text": [
      "shape of the array : (2, 3)\n",
      "dim of the array : 2\n",
      "data type name of the array : float64\n",
      "itemsize of the array : 8\n",
      "size of the array : 6\n",
      "type of the array : <class 'numpy.ndarray'>\n"
     ]
    }
   ],
   "source": [
    "# using some function of numpy\n",
    "print(f\"shape of the array : {data.shape}\")\n",
    "print(f\"dim of the array : {data.ndim}\")\n",
    "print(f\"data type name of the array : {data.dtype.name}\")\n",
    "print(f\"itemsize of the array : {data.itemsize}\")\n",
    "print(f\"size of the array : {data.size}\")\n",
    "print(f\"type of the array : {type(data)}\")"
   ]
  },
  {
   "cell_type": "code",
   "execution_count": 5,
   "metadata": {},
   "outputs": [
    {
     "data": {
      "text/plain": [
       "(array([[ 0.9526, -0.246 , -0.8856],\n",
       "        [ 0.5639,  0.2379,  0.9104]]),\n",
       " array([[ 9.526, -2.46 , -8.856],\n",
       "        [ 5.639,  2.379,  9.104]]),\n",
       " array([[ 1.9052, -0.492 , -1.7712],\n",
       "        [ 1.1278,  0.4758,  1.8208]]),\n",
       " array([[ -9.0474, -10.246 , -10.8856],\n",
       "        [ -9.4361,  -9.7621,  -9.0896]]),\n",
       " array([[ 0.09526, -0.0246 , -0.08856],\n",
       "        [ 0.05639,  0.02379,  0.09104]]))"
      ]
     },
     "execution_count": 5,
     "metadata": {},
     "output_type": "execute_result"
    }
   ],
   "source": [
    "# operators using numpy\n",
    "data, data * 10, data + data, data - 10, data / 10"
   ]
  },
  {
   "cell_type": "code",
   "execution_count": 6,
   "metadata": {},
   "outputs": [
    {
     "data": {
      "text/plain": [
       "(array([0., 0., 0., 0., 0.]),\n",
       " array([1., 1., 1., 1., 1.]),\n",
       " array([[0.09526, 0.0246 , 0.08856],\n",
       "        [0.05639, 0.02379, 0.09104]]))"
      ]
     },
     "execution_count": 6,
     "metadata": {},
     "output_type": "execute_result"
    }
   ],
   "source": [
    "np.zeros(5), np.ones(5), np.empty((2, 3))"
   ]
  },
  {
   "cell_type": "code",
   "execution_count": 7,
   "metadata": {},
   "outputs": [
    {
     "data": {
      "text/plain": [
       "array([0, 1, 2, 3, 4, 5, 6, 7, 8, 9])"
      ]
     },
     "execution_count": 7,
     "metadata": {},
     "output_type": "execute_result"
    }
   ],
   "source": [
    "np.arange(10)"
   ]
  },
  {
   "cell_type": "code",
   "execution_count": 8,
   "metadata": {},
   "outputs": [
    {
     "data": {
      "text/plain": [
       "(array([[0, 0, 0],\n",
       "        [0, 0, 0]], dtype=int16),\n",
       " dtype('int16'))"
      ]
     },
     "execution_count": 8,
     "metadata": {},
     "output_type": "execute_result"
    }
   ],
   "source": [
    "arr1 = np.array(data, dtype=np.int16)\n",
    "arr1, arr1.dtype"
   ]
  },
  {
   "cell_type": "code",
   "execution_count": 9,
   "metadata": {},
   "outputs": [
    {
     "data": {
      "text/plain": [
       "array(['1.25', '0.43', '-9.6', '12'], dtype='<U4')"
      ]
     },
     "execution_count": 9,
     "metadata": {},
     "output_type": "execute_result"
    }
   ],
   "source": [
    "numeric_string = np.array(['1.25', '0.43', '-9.6', '12'], dtype=np.str_)\n",
    "numeric_string"
   ]
  },
  {
   "cell_type": "code",
   "execution_count": 10,
   "metadata": {},
   "outputs": [
    {
     "data": {
      "text/plain": [
       "array([ 1.25,  0.43, -9.6 , 12.  ])"
      ]
     },
     "execution_count": 10,
     "metadata": {},
     "output_type": "execute_result"
    }
   ],
   "source": [
    "numeric_value = numeric_string.astype(float)\n",
    "numeric_value"
   ]
  },
  {
   "cell_type": "code",
   "execution_count": 11,
   "metadata": {},
   "outputs": [
    {
     "data": {
      "text/plain": [
       "(array([[ 1.04975856, -4.06504065, -1.12917796],\n",
       "        [ 1.77336407,  4.20344683,  1.09841828]]),\n",
       " array([[0.90744676, 0.060516  , 0.78428736],\n",
       "        [0.31798321, 0.05659641, 0.82882816]]))"
      ]
     },
     "execution_count": 11,
     "metadata": {},
     "output_type": "execute_result"
    }
   ],
   "source": [
    "1/data, data ** 2"
   ]
  },
  {
   "cell_type": "markdown",
   "metadata": {},
   "source": [
    "## Index and Slicing "
   ]
  },
  {
   "cell_type": "code",
   "execution_count": 12,
   "metadata": {},
   "outputs": [
    {
     "data": {
      "text/plain": [
       "array([0, 1, 2, 3, 4, 5, 6, 7, 8, 9])"
      ]
     },
     "execution_count": 12,
     "metadata": {},
     "output_type": "execute_result"
    }
   ],
   "source": [
    "arr = np.arange(10)\n",
    "arr"
   ]
  },
  {
   "cell_type": "code",
   "execution_count": 13,
   "metadata": {},
   "outputs": [
    {
     "data": {
      "text/plain": [
       "(np.int64(5), array([5, 6, 7]))"
      ]
     },
     "execution_count": 13,
     "metadata": {},
     "output_type": "execute_result"
    }
   ],
   "source": [
    "arr[5], arr[5:8]"
   ]
  },
  {
   "cell_type": "code",
   "execution_count": 14,
   "metadata": {},
   "outputs": [
    {
     "data": {
      "text/plain": [
       "array([8, 7, 6, 5])"
      ]
     },
     "execution_count": 14,
     "metadata": {},
     "output_type": "execute_result"
    }
   ],
   "source": [
    "arr[8:4:-1]"
   ]
  },
  {
   "cell_type": "markdown",
   "metadata": {},
   "source": [
    "##### 2D array"
   ]
  },
  {
   "cell_type": "code",
   "execution_count": 15,
   "metadata": {},
   "outputs": [
    {
     "data": {
      "text/plain": [
       "array([[1, 2, 3],\n",
       "       [4, 5, 6],\n",
       "       [7, 8, 9]])"
      ]
     },
     "execution_count": 15,
     "metadata": {},
     "output_type": "execute_result"
    }
   ],
   "source": [
    "arr2 = np.array([[1, 2, 3],\n",
    "                 [4, 5, 6],\n",
    "                 [7, 8, 9]])\n",
    "\n",
    "arr2"
   ]
  },
  {
   "cell_type": "code",
   "execution_count": 16,
   "metadata": {},
   "outputs": [
    {
     "data": {
      "text/plain": [
       "(np.int64(5), np.int64(5))"
      ]
     },
     "execution_count": 16,
     "metadata": {},
     "output_type": "execute_result"
    }
   ],
   "source": [
    "arr2[1][1], arr2[1, 1]"
   ]
  },
  {
   "cell_type": "code",
   "execution_count": 17,
   "metadata": {},
   "outputs": [
    {
     "data": {
      "text/plain": [
       "(array([[[ 1,  2,  3],\n",
       "         [ 4,  5,  6]],\n",
       " \n",
       "        [[ 7,  8,  9],\n",
       "         [10, 11, 12]]]),\n",
       " (2, 2, 3))"
      ]
     },
     "execution_count": 17,
     "metadata": {},
     "output_type": "execute_result"
    }
   ],
   "source": [
    "arr3d = np.array([[[1, 2, 3], [4, 5, 6]], [[7, 8, 9], [10, 11, 12]]])\n",
    "arr3d, arr3d.shape"
   ]
  },
  {
   "cell_type": "code",
   "execution_count": 18,
   "metadata": {},
   "outputs": [
    {
     "data": {
      "text/plain": [
       "(array([[1, 2, 3],\n",
       "        [4, 5, 6]]),\n",
       " array([[ 7,  8,  9],\n",
       "        [10, 11, 12]]),\n",
       " array([4, 5, 6]),\n",
       " array([7, 8, 9]),\n",
       " np.int64(6))"
      ]
     },
     "execution_count": 18,
     "metadata": {},
     "output_type": "execute_result"
    }
   ],
   "source": [
    "arr3d[0], arr3d[1], arr3d[0][1], arr3d[1][0], arr3d[0][1][2]"
   ]
  },
  {
   "cell_type": "code",
   "execution_count": 19,
   "metadata": {},
   "outputs": [
    {
     "data": {
      "text/plain": [
       "array([[[ 1,  2,  3],\n",
       "        [ 4,  5,  6]],\n",
       "\n",
       "       [[ 7,  8,  9],\n",
       "        [10, 11, 12]]])"
      ]
     },
     "execution_count": 19,
     "metadata": {},
     "output_type": "execute_result"
    }
   ],
   "source": [
    "old_arr3 = arr3d.copy()\n",
    "old_arr3"
   ]
  },
  {
   "cell_type": "code",
   "execution_count": 20,
   "metadata": {},
   "outputs": [
    {
     "data": {
      "text/plain": [
       "array(['Bob', 'Joe', 'Will', 'Bob', 'Will', 'Joe', 'Joe'], dtype='<U4')"
      ]
     },
     "execution_count": 20,
     "metadata": {},
     "output_type": "execute_result"
    }
   ],
   "source": [
    "names = np.array(['Bob', 'Joe', 'Will', 'Bob', 'Will', 'Joe', 'Joe'])\n",
    "names"
   ]
  },
  {
   "cell_type": "code",
   "execution_count": 21,
   "metadata": {},
   "outputs": [
    {
     "data": {
      "text/plain": [
       "array([[ 0.64321764,  0.48246772, -0.93758479,  0.13403041],\n",
       "       [-0.94938086, -0.66296558, -0.80765502,  1.3221731 ],\n",
       "       [-0.32103782,  1.13288149, -0.15267017, -0.25568158],\n",
       "       [-1.13036625,  0.86103011, -0.28516285,  0.63852529],\n",
       "       [-0.69720298,  0.03677217,  0.92909271,  0.86607929],\n",
       "       [-1.42202956,  0.26151248,  1.46641254, -1.5639836 ],\n",
       "       [ 0.27004935, -2.12713322, -0.23969049, -0.89116279]])"
      ]
     },
     "execution_count": 21,
     "metadata": {},
     "output_type": "execute_result"
    }
   ],
   "source": [
    "data = np.random.randn(7, 4)\n",
    "data"
   ]
  },
  {
   "cell_type": "code",
   "execution_count": 22,
   "metadata": {},
   "outputs": [
    {
     "data": {
      "text/plain": [
       "array([ True, False, False,  True, False, False, False])"
      ]
     },
     "execution_count": 22,
     "metadata": {},
     "output_type": "execute_result"
    }
   ],
   "source": [
    "names == 'Bob'"
   ]
  },
  {
   "cell_type": "code",
   "execution_count": 23,
   "metadata": {},
   "outputs": [
    {
     "data": {
      "text/plain": [
       "(array([[ 0.64321764,  0.48246772, -0.93758479,  0.13403041],\n",
       "        [-1.13036625,  0.86103011, -0.28516285,  0.63852529]]),\n",
       " array([0.13403041, 0.63852529]))"
      ]
     },
     "execution_count": 23,
     "metadata": {},
     "output_type": "execute_result"
    }
   ],
   "source": [
    "data[names == 'Bob'], data[names == 'Bob', 3]"
   ]
  },
  {
   "cell_type": "code",
   "execution_count": 24,
   "metadata": {},
   "outputs": [
    {
     "data": {
      "text/plain": [
       "(array([[-0.94938086, -0.66296558, -0.80765502,  1.3221731 ],\n",
       "        [-0.32103782,  1.13288149, -0.15267017, -0.25568158],\n",
       "        [-0.69720298,  0.03677217,  0.92909271,  0.86607929],\n",
       "        [-1.42202956,  0.26151248,  1.46641254, -1.5639836 ],\n",
       "        [ 0.27004935, -2.12713322, -0.23969049, -0.89116279]]),\n",
       " array([ 1.3221731 , -0.25568158,  0.86607929, -1.5639836 , -0.89116279]))"
      ]
     },
     "execution_count": 24,
     "metadata": {},
     "output_type": "execute_result"
    }
   ],
   "source": [
    "data[~(names == 'Bob')], data[~(names == 'Bob'), 3]"
   ]
  },
  {
   "cell_type": "code",
   "execution_count": 25,
   "metadata": {},
   "outputs": [
    {
     "data": {
      "text/plain": [
       "array([[ 0.64321764,  0.48246772, -0.93758479,  0.13403041],\n",
       "       [ 7.        ,  7.        ,  7.        ,  7.        ],\n",
       "       [ 7.        ,  7.        ,  7.        ,  7.        ],\n",
       "       [-1.13036625,  0.86103011, -0.28516285,  0.63852529],\n",
       "       [ 7.        ,  7.        ,  7.        ,  7.        ],\n",
       "       [ 7.        ,  7.        ,  7.        ,  7.        ],\n",
       "       [ 7.        ,  7.        ,  7.        ,  7.        ]])"
      ]
     },
     "execution_count": 25,
     "metadata": {},
     "output_type": "execute_result"
    }
   ],
   "source": [
    "data[names != 'Bob'] = 7\n",
    "data"
   ]
  },
  {
   "cell_type": "code",
   "execution_count": 26,
   "metadata": {},
   "outputs": [
    {
     "data": {
      "text/plain": [
       "array([ 0.64321764,  0.48246772, -0.93758479,  0.13403041, -1.13036625,\n",
       "        0.86103011, -0.28516285,  0.63852529])"
      ]
     },
     "execution_count": 26,
     "metadata": {},
     "output_type": "execute_result"
    }
   ],
   "source": [
    "data[data < 4]"
   ]
  },
  {
   "cell_type": "code",
   "execution_count": 27,
   "metadata": {},
   "outputs": [
    {
     "data": {
      "text/plain": [
       "array([[ 0.,  3.,  6.,  9.],\n",
       "       [ 1.,  4.,  7., 10.],\n",
       "       [ 2.,  5.,  8., 11.],\n",
       "       [ 3.,  6.,  9., 12.],\n",
       "       [ 4.,  7., 10., 13.],\n",
       "       [ 5.,  8., 11., 14.],\n",
       "       [ 6.,  9., 12., 15.],\n",
       "       [ 7., 10., 13., 16.]])"
      ]
     },
     "execution_count": 27,
     "metadata": {},
     "output_type": "execute_result"
    }
   ],
   "source": [
    "# Fancy Indexing\n",
    "\n",
    "arr = np.empty((8, 4))\n",
    "for i in range(8):\n",
    "    for j in range(4):\n",
    "        arr[i][j] = i + 3*j\n",
    "arr"
   ]
  },
  {
   "cell_type": "code",
   "execution_count": 28,
   "metadata": {},
   "outputs": [
    {
     "data": {
      "text/plain": [
       "array([[ 4.,  7., 10., 13.],\n",
       "       [ 3.,  6.,  9., 12.],\n",
       "       [ 0.,  3.,  6.,  9.],\n",
       "       [ 6.,  9., 12., 15.]])"
      ]
     },
     "execution_count": 28,
     "metadata": {},
     "output_type": "execute_result"
    }
   ],
   "source": [
    "arr[[4, 3, 0, 6]]"
   ]
  },
  {
   "cell_type": "code",
   "execution_count": 29,
   "metadata": {},
   "outputs": [
    {
     "data": {
      "text/plain": [
       "array([[ 0,  1,  2,  3],\n",
       "       [ 4,  5,  6,  7],\n",
       "       [ 8,  9, 10, 11],\n",
       "       [12, 13, 14, 15],\n",
       "       [16, 17, 18, 19],\n",
       "       [20, 21, 22, 23],\n",
       "       [24, 25, 26, 27],\n",
       "       [28, 29, 30, 31]])"
      ]
     },
     "execution_count": 29,
     "metadata": {},
     "output_type": "execute_result"
    }
   ],
   "source": [
    "arr = np.arange(32).reshape((8, 4))\n",
    "arr"
   ]
  },
  {
   "cell_type": "code",
   "execution_count": 30,
   "metadata": {},
   "outputs": [],
   "source": [
    "# matrix operators"
   ]
  },
  {
   "cell_type": "code",
   "execution_count": 31,
   "metadata": {},
   "outputs": [
    {
     "data": {
      "text/plain": [
       "array([[ 6, 12, 20],\n",
       "       [16, 26, 46],\n",
       "       [26, 40, 72]])"
      ]
     },
     "execution_count": 31,
     "metadata": {},
     "output_type": "execute_result"
    }
   ],
   "source": [
    "arr1 = np.array([[1, 2, 3], [4, 5, 6]])\n",
    "arr2 = np.array([[4, 2, 6], [1, 5, 7]])\n",
    "\n",
    "arr1 = arr1.reshape(3, 2)\n",
    "\n",
    "arr_dot = np.dot(arr1, arr2)\n",
    "arr_dot"
   ]
  },
  {
   "cell_type": "code",
   "execution_count": 32,
   "metadata": {},
   "outputs": [
    {
     "data": {
      "text/plain": [
       "array([[35, 44],\n",
       "       [44, 56]])"
      ]
     },
     "execution_count": 32,
     "metadata": {},
     "output_type": "execute_result"
    }
   ],
   "source": [
    "np.dot(arr1.T, arr1)"
   ]
  },
  {
   "cell_type": "code",
   "execution_count": 33,
   "metadata": {},
   "outputs": [
    {
     "data": {
      "text/plain": [
       "array([0, 1, 2, 3, 4, 5, 6, 7, 8, 9])"
      ]
     },
     "execution_count": 33,
     "metadata": {},
     "output_type": "execute_result"
    }
   ],
   "source": [
    "arr = np.arange(10)\n",
    "arr"
   ]
  },
  {
   "cell_type": "code",
   "execution_count": 34,
   "metadata": {},
   "outputs": [
    {
     "data": {
      "text/plain": [
       "array([0.        , 1.        , 1.41421356, 1.73205081, 2.        ,\n",
       "       2.23606798, 2.44948974, 2.64575131, 2.82842712, 3.        ])"
      ]
     },
     "execution_count": 34,
     "metadata": {},
     "output_type": "execute_result"
    }
   ],
   "source": [
    "np.sqrt(arr)"
   ]
  },
  {
   "cell_type": "code",
   "execution_count": 35,
   "metadata": {},
   "outputs": [
    {
     "name": "stdout",
     "output_type": "stream",
     "text": [
      "1.000\n",
      "2.718\n",
      "7.389\n",
      "20.086\n",
      "54.598\n",
      "148.413\n",
      "403.429\n",
      "1096.633\n",
      "2980.958\n",
      "8103.084\n"
     ]
    }
   ],
   "source": [
    "for x in np.round(np.exp(arr), 3):\n",
    "    print(f\"{x:.3f}\")"
   ]
  },
  {
   "cell_type": "code",
   "execution_count": 36,
   "metadata": {},
   "outputs": [
    {
     "data": {
      "text/plain": [
       "(array([ 1,  4,  9, 16, 25]),\n",
       " array([1.        , 1.41421356, 1.73205081, 2.        , 2.23606798]))"
      ]
     },
     "execution_count": 36,
     "metadata": {},
     "output_type": "execute_result"
    }
   ],
   "source": [
    "x = [1, 2, 3, 4, 5]\n",
    "x = np.array(x)\n",
    "ysq = np.square(x)\n",
    "ysqrt = np.sqrt(x)\n",
    "ysq, ysqrt"
   ]
  },
  {
   "cell_type": "code",
   "execution_count": 37,
   "metadata": {},
   "outputs": [
    {
     "data": {
      "text/plain": [
       "(array([ 1,  4,  9, 16, 25]), array([1., 2., 3., 4., 5.]))"
      ]
     },
     "execution_count": 37,
     "metadata": {},
     "output_type": "execute_result"
    }
   ],
   "source": [
    "np.maximum(x, ysq), np.maximum(x, ysqrt)"
   ]
  },
  {
   "cell_type": "code",
   "execution_count": 38,
   "metadata": {},
   "outputs": [
    {
     "data": {
      "text/plain": [
       "(array([1., 2., 5., 3., 6.]), array([1., 2., 5., 3., 6.]))"
      ]
     },
     "execution_count": 38,
     "metadata": {},
     "output_type": "execute_result"
    }
   ],
   "source": [
    "x = [-1, 2, -5, 3, -6]\n",
    "x = np.fabs(np.array(x))\n",
    "np.abs(np.array(x)), np.fabs(np.array(x))"
   ]
  },
  {
   "cell_type": "code",
   "execution_count": 39,
   "metadata": {},
   "outputs": [
    {
     "name": "stdout",
     "output_type": "stream",
     "text": [
      "[0.         0.69314718 1.60943791 1.09861229 1.79175947]\n",
      "[0.         0.30103    0.69897    0.47712125 0.77815125]\n",
      "[0.         1.         2.32192809 1.5849625  2.5849625 ]\n",
      "[0.69314718 1.09861229 1.79175947 1.38629436 1.94591015]\n"
     ]
    }
   ],
   "source": [
    "print(np.log(x))    # base e\n",
    "print(np.log10(x))    # base 10\n",
    "print(np.log2(x))    # base 10\n",
    "print(np.log1p(x))    # base 10"
   ]
  },
  {
   "cell_type": "code",
   "execution_count": 40,
   "metadata": {},
   "outputs": [
    {
     "data": {
      "text/plain": [
       "array([-1.,  1.,  1., -1.,  1., -1.,  0.])"
      ]
     },
     "execution_count": 40,
     "metadata": {},
     "output_type": "execute_result"
    }
   ],
   "source": [
    "x = [-1.3, 2.4, 0.9, -5.78, 3.62, -6.98, 0]\n",
    "np.sign(x)"
   ]
  },
  {
   "cell_type": "code",
   "execution_count": 41,
   "metadata": {},
   "outputs": [
    {
     "data": {
      "text/plain": [
       "array([-1.,  3.,  1., -5.,  4., -6.,  0.])"
      ]
     },
     "execution_count": 41,
     "metadata": {},
     "output_type": "execute_result"
    }
   ],
   "source": [
    "np.ceil(x)"
   ]
  },
  {
   "cell_type": "code",
   "execution_count": 42,
   "metadata": {},
   "outputs": [
    {
     "data": {
      "text/plain": [
       "array([-2.,  2.,  0., -6.,  3., -7.,  0.])"
      ]
     },
     "execution_count": 42,
     "metadata": {},
     "output_type": "execute_result"
    }
   ],
   "source": [
    "np.floor(x)"
   ]
  },
  {
   "cell_type": "code",
   "execution_count": 43,
   "metadata": {},
   "outputs": [
    {
     "data": {
      "text/plain": [
       "array([-1.,  2.,  1., -6.,  4., -7.,  0.])"
      ]
     },
     "execution_count": 43,
     "metadata": {},
     "output_type": "execute_result"
    }
   ],
   "source": [
    "np.rint(x)"
   ]
  },
  {
   "cell_type": "code",
   "execution_count": 44,
   "metadata": {},
   "outputs": [
    {
     "data": {
      "text/plain": [
       "(array([-0.3 ,  0.4 ,  0.9 , -0.78,  0.62, -0.98,  0.  ]),\n",
       " array([-1.,  2.,  0., -5.,  3., -6.,  0.]))"
      ]
     },
     "execution_count": 44,
     "metadata": {},
     "output_type": "execute_result"
    }
   ],
   "source": [
    "int_x, dec_x = np.modf(x)\n",
    "int_x, dec_x"
   ]
  },
  {
   "cell_type": "code",
   "execution_count": 45,
   "metadata": {},
   "outputs": [
    {
     "data": {
      "text/plain": [
       "array([False, False, False, False, False, False, False])"
      ]
     },
     "execution_count": 45,
     "metadata": {},
     "output_type": "execute_result"
    }
   ],
   "source": [
    "np.isnan(x)"
   ]
  },
  {
   "cell_type": "code",
   "execution_count": 46,
   "metadata": {},
   "outputs": [
    {
     "data": {
      "text/plain": [
       "array([False, False, False, False, False, False, False])"
      ]
     },
     "execution_count": 46,
     "metadata": {},
     "output_type": "execute_result"
    }
   ],
   "source": [
    "np.isinf(x)"
   ]
  },
  {
   "cell_type": "code",
   "execution_count": 47,
   "metadata": {},
   "outputs": [],
   "source": [
    "# Trignometric functions \n",
    "# sin, cos, tan, sinh, cosh, tanh, arcsin, arccos, arctan"
   ]
  },
  {
   "cell_type": "code",
   "execution_count": 48,
   "metadata": {},
   "outputs": [
    {
     "name": "stdout",
     "output_type": "stream",
     "text": [
      "sin : [-0.96355819  0.67546318  0.78332691  0.48221847 -0.46036591 -0.64177817\n",
      "  0.        ]\n",
      "cos : [ 0.26749883 -0.73739372  0.62160997  0.87605099 -0.88772925  0.76689033\n",
      "  1.        ]\n",
      "tan : [-3.60210245 -0.91601429  1.26015822  0.55044566  0.5185882  -0.83685781\n",
      "  0.        ]\n"
     ]
    }
   ],
   "source": [
    "print(f\"sin : {np.sin(x)}\")\n",
    "print(f\"cos : {np.cos(x)}\")\n",
    "print(f\"tan : {np.tan(x)}\")"
   ]
  },
  {
   "cell_type": "code",
   "execution_count": 49,
   "metadata": {},
   "outputs": [
    {
     "name": "stdout",
     "output_type": "stream",
     "text": [
      "sinh : [  -1.69838244    5.46622921    1.02651673 -161.87805085   18.65539257\n",
      " -537.45871835    0.        ]\n",
      "cosh : [  1.97091423   5.55694717   1.43308639 161.88113957  18.68217525\n",
      " 537.45964865   1.        ]\n",
      "tanh : [-0.86172316  0.98367486  0.71629787 -0.99998092  0.9985664  -0.99999827\n",
      "  0.        ]\n"
     ]
    }
   ],
   "source": [
    "print(f\"sinh : {np.sinh(x)}\")\n",
    "print(f\"cosh : {np.cosh(x)}\")\n",
    "print(f\"tanh : {np.tanh(x)}\")"
   ]
  },
  {
   "cell_type": "code",
   "execution_count": 50,
   "metadata": {},
   "outputs": [
    {
     "name": "stdout",
     "output_type": "stream",
     "text": [
      "arcsin : [       nan        nan 1.11976951        nan        nan        nan\n",
      " 0.        ]\n",
      "arccos : [       nan        nan 0.45102681        nan        nan        nan\n",
      " 1.57079633]\n",
      "arctan : [-0.9151007   1.17600521  0.7328151  -1.39948181  1.30127479 -1.42849815\n",
      "  0.        ]\n"
     ]
    },
    {
     "name": "stderr",
     "output_type": "stream",
     "text": [
      "/tmp/ipykernel_19976/3936760979.py:1: RuntimeWarning: invalid value encountered in arcsin\n",
      "  print(f\"arcsin : {np.arcsin(x)}\")\n",
      "/tmp/ipykernel_19976/3936760979.py:2: RuntimeWarning: invalid value encountered in arccos\n",
      "  print(f\"arccos : {np.arccos(x)}\")\n"
     ]
    }
   ],
   "source": [
    "print(f\"arcsin : {np.arcsin(x)}\")\n",
    "print(f\"arccos : {np.arccos(x)}\")\n",
    "print(f\"arctan : {np.arctan(x)}\")"
   ]
  },
  {
   "cell_type": "code",
   "execution_count": 51,
   "metadata": {},
   "outputs": [
    {
     "name": "stdout",
     "output_type": "stream",
     "text": [
      "arcsinh : [-1.07845106  1.60943791  0.80886694 -2.45495138  1.99817488 -2.64128837\n",
      "  0.        ]\n",
      "arccosh : [       nan 1.52207937        nan        nan 1.95997334        nan\n",
      "        nan]\n",
      "arctanh : [       nan        nan 1.47221949        nan        nan        nan\n",
      " 0.        ]\n"
     ]
    },
    {
     "name": "stderr",
     "output_type": "stream",
     "text": [
      "/tmp/ipykernel_19976/1610276498.py:2: RuntimeWarning: invalid value encountered in arccosh\n",
      "  print(f\"arccosh : {np.arccosh(x)}\")\n",
      "/tmp/ipykernel_19976/1610276498.py:3: RuntimeWarning: invalid value encountered in arctanh\n",
      "  print(f\"arctanh : {np.arctanh(x)}\")\n"
     ]
    }
   ],
   "source": [
    "print(f\"arcsinh : {np.arcsinh(x)}\")\n",
    "print(f\"arccosh : {np.arccosh(x)}\")\n",
    "print(f\"arctanh : {np.arctanh(x)}\")"
   ]
  },
  {
   "cell_type": "code",
   "execution_count": 61,
   "metadata": {},
   "outputs": [
    {
     "data": {
      "text/plain": [
       "(array([[-5.  , -4.99, -4.98, ...,  4.97,  4.98,  4.99],\n",
       "        [-5.  , -4.99, -4.98, ...,  4.97,  4.98,  4.99],\n",
       "        [-5.  , -4.99, -4.98, ...,  4.97,  4.98,  4.99],\n",
       "        ...,\n",
       "        [-5.  , -4.99, -4.98, ...,  4.97,  4.98,  4.99],\n",
       "        [-5.  , -4.99, -4.98, ...,  4.97,  4.98,  4.99],\n",
       "        [-5.  , -4.99, -4.98, ...,  4.97,  4.98,  4.99]],\n",
       "       shape=(1000, 1000)),\n",
       " array([[-5.  , -5.  , -5.  , ..., -5.  , -5.  , -5.  ],\n",
       "        [-4.99, -4.99, -4.99, ..., -4.99, -4.99, -4.99],\n",
       "        [-4.98, -4.98, -4.98, ..., -4.98, -4.98, -4.98],\n",
       "        ...,\n",
       "        [ 4.97,  4.97,  4.97, ...,  4.97,  4.97,  4.97],\n",
       "        [ 4.98,  4.98,  4.98, ...,  4.98,  4.98,  4.98],\n",
       "        [ 4.99,  4.99,  4.99, ...,  4.99,  4.99,  4.99]],\n",
       "       shape=(1000, 1000)))"
      ]
     },
     "execution_count": 61,
     "metadata": {},
     "output_type": "execute_result"
    }
   ],
   "source": [
    "points = np.arange(-5, 5, 0.01)\n",
    "xs, ys = np.meshgrid(points, points)\n",
    "xs, ys"
   ]
  },
  {
   "cell_type": "code",
   "execution_count": 62,
   "metadata": {},
   "outputs": [
    {
     "data": {
      "text/plain": [
       "array([[7.07106781, 7.06400028, 7.05693985, ..., 7.04988652, 7.05693985,\n",
       "        7.06400028],\n",
       "       [7.06400028, 7.05692568, 7.04985815, ..., 7.04279774, 7.04985815,\n",
       "        7.05692568],\n",
       "       [7.05693985, 7.04985815, 7.04278354, ..., 7.03571603, 7.04278354,\n",
       "        7.04985815],\n",
       "       ...,\n",
       "       [7.04988652, 7.04279774, 7.03571603, ..., 7.0286414 , 7.03571603,\n",
       "        7.04279774],\n",
       "       [7.05693985, 7.04985815, 7.04278354, ..., 7.03571603, 7.04278354,\n",
       "        7.04985815],\n",
       "       [7.06400028, 7.05692568, 7.04985815, ..., 7.04279774, 7.04985815,\n",
       "        7.05692568]], shape=(1000, 1000))"
      ]
     },
     "execution_count": 62,
     "metadata": {},
     "output_type": "execute_result"
    }
   ],
   "source": [
    "z = np.sqrt(np.square(xs) + np.square(ys))\n",
    "z"
   ]
  },
  {
   "cell_type": "code",
   "execution_count": 63,
   "metadata": {},
   "outputs": [
    {
     "data": {
      "text/plain": [
       "<matplotlib.colorbar.Colorbar at 0x7f63a8917b10>"
      ]
     },
     "execution_count": 63,
     "metadata": {},
     "output_type": "execute_result"
    },
    {
     "data": {
      "image/png": "[encoded data removed]",
      "text/plain": [
       "<Figure size 640x480 with 2 Axes>"
      ]
     },
     "metadata": {},
     "output_type": "display_data"
    }
   ],
   "source": [
    "import matplotlib.pyplot as plt \n",
    "plt.imshow(z, cmap=plt.cm.gray);\n",
    "plt.colorbar()"
   ]
  },
  {
   "cell_type": "markdown",
   "metadata": {},
   "source": [
    "# Mathematical and Statistical Methods "
   ]
  },
  {
   "cell_type": "code",
   "execution_count": 64,
   "metadata": {},
   "outputs": [
    {
     "data": {
      "text/plain": [
       "array([[-0.04326979,  0.95711192, -0.35446485,  0.7555211 ],\n",
       "       [-0.42097596, -1.18154247, -0.35652892, -0.37439346],\n",
       "       [-1.26322138,  0.11862997,  0.13028292,  0.47162208],\n",
       "       [-1.82446731,  0.05111848, -0.80011678,  0.91134943],\n",
       "       [ 0.63833285,  1.39184894,  1.4439058 ,  0.72397339]])"
      ]
     },
     "execution_count": 64,
     "metadata": {},
     "output_type": "execute_result"
    }
   ],
   "source": [
    "arr = np.random.randn(5, 4)\n",
    "arr"
   ]
  },
  {
   "cell_type": "code",
   "execution_count": 66,
   "metadata": {},
   "outputs": [
    {
     "data": {
      "text/plain": [
       "(np.float64(0.048735798614421684), np.float64(0.048735798614421684))"
      ]
     },
     "execution_count": 66,
     "metadata": {},
     "output_type": "execute_result"
    }
   ],
   "source": [
    "arr.mean(), np.mean(arr)"
   ]
  },
  {
   "cell_type": "code",
   "execution_count": 67,
   "metadata": {},
   "outputs": [
    {
     "data": {
      "text/plain": [
       "(np.float64(0.9747159722884337), np.float64(0.9747159722884337))"
      ]
     },
     "execution_count": 67,
     "metadata": {},
     "output_type": "execute_result"
    }
   ],
   "source": [
    "np.sum(arr), arr.sum()"
   ]
  },
  {
   "cell_type": "code",
   "execution_count": 71,
   "metadata": {},
   "outputs": [
    {
     "data": {
      "text/plain": [
       "(array([ 0.32872459, -0.5833602 , -0.1356716 , -0.41552904,  1.04951524]),\n",
       " array([-0.58272032,  0.26743337,  0.01261563,  0.49761451]))"
      ]
     },
     "execution_count": 71,
     "metadata": {},
     "output_type": "execute_result"
    }
   ],
   "source": [
    "arr1, arr0 = arr.mean(axis=1), arr.mean(axis=0)\n",
    "arr1, arr0"
   ]
  },
  {
   "cell_type": "code",
   "execution_count": 74,
   "metadata": {},
   "outputs": [
    {
     "data": {
      "text/plain": [
       "np.float64(0.04873579861442171)"
      ]
     },
     "execution_count": 74,
     "metadata": {},
     "output_type": "execute_result"
    }
   ],
   "source": [
    "arr11, arr00 = np.mean(arr1), np.mean(arr0)\n",
    "np.mean((arr11 + arr00) / 2)"
   ]
  },
  {
   "cell_type": "code",
   "execution_count": 78,
   "metadata": {},
   "outputs": [
    {
     "data": {
      "text/plain": [
       "(array([-1.3 ,  1.1 ,  2.  , -3.78, -0.16, -7.14, -7.14]),\n",
       " array([  -1.3       ,   -3.12      ,   -2.808     ,   16.23024   ,\n",
       "          58.7534688 , -410.09921222,   -0.        ]))"
      ]
     },
     "execution_count": 78,
     "metadata": {},
     "output_type": "execute_result"
    }
   ],
   "source": [
    "np.cumsum(x), np.cumprod(x)"
   ]
  },
  {
   "cell_type": "code",
   "execution_count": 88,
   "metadata": {},
   "outputs": [
    {
     "data": {
      "text/plain": [
       "array([[-1.82446731, -0.80011678, -0.37439346, -0.35652892],\n",
       "       [-1.26322138, -0.42097596,  0.05111848,  0.47162208],\n",
       "       [-1.18154247, -0.04326979,  0.13028292,  0.91134943],\n",
       "       [-0.35446485,  0.11862997,  0.7555211 ,  0.95711192],\n",
       "       [ 0.63833285,  0.72397339,  1.39184894,  1.4439058 ]])"
      ]
     },
     "execution_count": 88,
     "metadata": {},
     "output_type": "execute_result"
    }
   ],
   "source": [
    "xs = arr.copy()\n",
    "xs.sort(axis=0)\n",
    "xs"
   ]
  },
  {
   "cell_type": "markdown",
   "metadata": {},
   "source": [
    "# 2 array"
   ]
  },
  {
   "cell_type": "code",
   "execution_count": 90,
   "metadata": {},
   "outputs": [
    {
     "data": {
      "text/plain": [
       "(array([[0.99289554, 0.9562678 , 0.4532906 , 0.29509449, 0.71973736]]),\n",
       " array([[0.83023935, 0.70118815, 0.90161186, 0.88779934, 0.65678698]]))"
      ]
     },
     "execution_count": 90,
     "metadata": {},
     "output_type": "execute_result"
    }
   ],
   "source": [
    "x = np.random.rand(1, 5)\n",
    "y = np.random.rand(1, 5)\n",
    "x, y"
   ]
  },
  {
   "cell_type": "code",
   "execution_count": 91,
   "metadata": {},
   "outputs": [
    {
     "data": {
      "text/plain": [
       "array([0.29509449, 0.4532906 , 0.71973736, 0.9562678 , 0.99289554])"
      ]
     },
     "execution_count": 91,
     "metadata": {},
     "output_type": "execute_result"
    }
   ],
   "source": [
    "np.unique(x)"
   ]
  },
  {
   "cell_type": "code",
   "execution_count": 92,
   "metadata": {},
   "outputs": [
    {
     "data": {
      "text/plain": [
       "array([], dtype=float64)"
      ]
     },
     "execution_count": 92,
     "metadata": {},
     "output_type": "execute_result"
    }
   ],
   "source": [
    "np.intersect1d(x, y)"
   ]
  },
  {
   "cell_type": "code",
   "execution_count": 93,
   "metadata": {},
   "outputs": [
    {
     "data": {
      "text/plain": [
       "array([0.29509449, 0.4532906 , 0.65678698, 0.70118815, 0.71973736,\n",
       "       0.83023935, 0.88779934, 0.90161186, 0.9562678 , 0.99289554])"
      ]
     },
     "execution_count": 93,
     "metadata": {},
     "output_type": "execute_result"
    }
   ],
   "source": [
    "np.union1d(x, y)"
   ]
  },
  {
   "cell_type": "markdown",
   "metadata": {},
   "source": [
    "# Linear Algebra "
   ]
  },
  {
   "cell_type": "code",
   "execution_count": 94,
   "metadata": {},
   "outputs": [],
   "source": [
    "x = np.array([[1., 2., 3.], [4., 5., 6.]])\n",
    "y = np.array([[6., 23.], [-1, 7], [8, 9]])"
   ]
  },
  {
   "cell_type": "code",
   "execution_count": 96,
   "metadata": {},
   "outputs": [
    {
     "data": {
      "text/plain": [
       "(array([[ 28.,  64.],\n",
       "        [ 67., 181.]]),\n",
       " array([[ 98., 127., 156.],\n",
       "        [ 27.,  33.,  39.],\n",
       "        [ 44.,  61.,  78.]]))"
      ]
     },
     "execution_count": 96,
     "metadata": {},
     "output_type": "execute_result"
    }
   ],
   "source": [
    "x.dot(y), y.dot(x)"
   ]
  },
  {
   "cell_type": "code",
   "execution_count": 97,
   "metadata": {},
   "outputs": [
    {
     "data": {
      "text/plain": [
       "(array([[ 28.,  64.],\n",
       "        [ 67., 181.]]),\n",
       " array([[ 98., 127., 156.],\n",
       "        [ 27.,  33.,  39.],\n",
       "        [ 44.,  61.,  78.]]))"
      ]
     },
     "execution_count": 97,
     "metadata": {},
     "output_type": "execute_result"
    }
   ],
   "source": [
    "# above code is equivalent to \n",
    "np.dot(x, y), np.dot(y, x)"
   ]
  },
  {
   "cell_type": "code",
   "execution_count": 105,
   "metadata": {},
   "outputs": [
    {
     "name": "stdout",
     "output_type": "stream",
     "text": [
      "Random 5x5 Matrix:\n",
      "[[5 0 2 3 1]\n",
      " [6 3 2 8 6]\n",
      " [5 5 6 8 5]\n",
      " [7 4 7 8 8]\n",
      " [5 5 8 4 1]]\n"
     ]
    }
   ],
   "source": [
    "from numpy.linalg import inv, qr\n",
    "from numpy.random import randint\n",
    "\n",
    "# Generate a 5x5 matrix of random integers between 0 and 10\n",
    "X = randint(0, 10, (5, 5))\n",
    "print(\"Random 5x5 Matrix:\")\n",
    "print(X)"
   ]
  },
  {
   "cell_type": "code",
   "execution_count": 107,
   "metadata": {},
   "outputs": [
    {
     "data": {
      "text/plain": [
       "array([[160,  96, 141, 179, 127],\n",
       "       [ 96,  75, 104, 116,  80],\n",
       "       [141, 104, 157, 158, 108],\n",
       "       [179, 116, 158, 217, 159],\n",
       "       [127,  80, 108, 159, 127]])"
      ]
     },
     "execution_count": 107,
     "metadata": {},
     "output_type": "execute_result"
    }
   ],
   "source": [
    "# inverse the matrix \n",
    "mat = X.T.dot(X)\n",
    "mat"
   ]
  },
  {
   "cell_type": "code",
   "execution_count": 108,
   "metadata": {},
   "outputs": [
    {
     "data": {
      "text/plain": [
       "array([[ 0.42437783,  0.57463016, -0.34039479, -0.54827613,  0.18954446],\n",
       "       [ 0.57463016,  1.0496398 , -0.57972715, -0.8313018 ,  0.29793941],\n",
       "       [-0.34039479, -0.57972715,  0.35263429,  0.44358656, -0.14965713],\n",
       "       [-0.54827613, -0.8313018 ,  0.44358656,  0.83777923, -0.35416562],\n",
       "       [ 0.18954446,  0.29793941, -0.14965713, -0.35416562,  0.20132287]])"
      ]
     },
     "execution_count": 108,
     "metadata": {},
     "output_type": "execute_result"
    }
   ],
   "source": [
    "inv(mat)"
   ]
  },
  {
   "cell_type": "code",
   "execution_count": 114,
   "metadata": {},
   "outputs": [
    {
     "data": {
      "text/plain": [
       "array([[ 1., -0.,  0., -0., -0.],\n",
       "       [-0.,  1.,  0., -0., -0.],\n",
       "       [-0., -0.,  1., -0., -0.],\n",
       "       [-0.,  0.,  0.,  1., -0.],\n",
       "       [-0., -0.,  0., -0.,  1.]])"
      ]
     },
     "execution_count": 114,
     "metadata": {},
     "output_type": "execute_result"
    }
   ],
   "source": [
    "np.round(mat.dot(inv(mat)), 3)"
   ]
  },
  {
   "cell_type": "code",
   "execution_count": 115,
   "metadata": {},
   "outputs": [
    {
     "data": {
      "text/plain": [
       "(array([[-0.49886375,  0.52268897, -0.48922955,  0.3518853 ,  0.33876597],\n",
       "        [-0.29931825, -0.59606175,  0.32823708,  0.40475552,  0.53249635],\n",
       "        [-0.43962368, -0.55361584, -0.56562347, -0.32979811, -0.26747678],\n",
       "        [-0.55810382,  0.13514874,  0.45503171,  0.25005601, -0.63298743],\n",
       "        [-0.3959731 ,  0.21621969,  0.35486773, -0.73556434,  0.3598171 ]]),\n",
       " array([[-320.72885745, -212.47854198, -301.43530198, -377.54632048,\n",
       "         -273.80760403],\n",
       "        [   0.        ,  -19.12770765,  -30.50373547,    0.65306848,\n",
       "            7.85459962],\n",
       "        [   0.        ,    0.        ,  -13.42687006,   16.30075339,\n",
       "           20.45772208],\n",
       "        [   0.        ,    0.        ,    0.        ,   -4.86156718,\n",
       "          -12.20608606],\n",
       "        [   0.        ,    0.        ,    0.        ,    0.        ,\n",
       "            1.78726391]]))"
      ]
     },
     "execution_count": 115,
     "metadata": {},
     "output_type": "execute_result"
    }
   ],
   "source": [
    "q, r = qr(mat)\n",
    "q, r"
   ]
  },
  {
   "cell_type": "code",
   "execution_count": 118,
   "metadata": {},
   "outputs": [
    {
     "data": {
      "text/plain": [
       "array([[160.,  96., 141., 179., 127.],\n",
       "       [ 96.,  75., 104., 116.,  80.],\n",
       "       [141., 104., 157., 158., 108.],\n",
       "       [179., 116., 158., 217., 159.],\n",
       "       [127.,  80., 108., 159., 127.]])"
      ]
     },
     "execution_count": 118,
     "metadata": {},
     "output_type": "execute_result"
    }
   ],
   "source": [
    "q.dot(r)"
   ]
  },
  {
   "cell_type": "code",
   "execution_count": 119,
   "metadata": {},
   "outputs": [
    {
     "data": {
      "text/plain": [
       "array([160,  75, 157, 217, 127])"
      ]
     },
     "execution_count": 119,
     "metadata": {},
     "output_type": "execute_result"
    }
   ],
   "source": [
    "np.diag(mat)"
   ]
  },
  {
   "cell_type": "code",
   "execution_count": 120,
   "metadata": {},
   "outputs": [
    {
     "data": {
      "text/plain": [
       "np.int64(736)"
      ]
     },
     "execution_count": 120,
     "metadata": {},
     "output_type": "execute_result"
    }
   ],
   "source": [
    "np.trace(mat)"
   ]
  },
  {
   "cell_type": "code",
   "execution_count": 121,
   "metadata": {},
   "outputs": [
    {
     "data": {
      "text/plain": [
       "np.float64(715715.999999997)"
      ]
     },
     "execution_count": 121,
     "metadata": {},
     "output_type": "execute_result"
    }
   ],
   "source": [
    "np.linalg.det(mat)"
   ]
  },
  {
   "cell_type": "code",
   "execution_count": 125,
   "metadata": {},
   "outputs": [
    {
     "data": {
      "text/plain": [
       "array([6.75897e+02, 4.20420e+01, 1.24970e+01, 3.90000e-01, 5.17400e+00])"
      ]
     },
     "execution_count": 125,
     "metadata": {},
     "output_type": "execute_result"
    }
   ],
   "source": [
    "eigres, eigvec = np.linalg.eig(mat)\n",
    "np.round(eigres, 3)"
   ]
  },
  {
   "cell_type": "code",
   "execution_count": 126,
   "metadata": {},
   "outputs": [
    {
     "data": {
      "text/plain": [
       "array([[-0.474, -0.043,  0.79 , -0.381,  0.058],\n",
       "       [-0.315,  0.32 , -0.436, -0.621, -0.472],\n",
       "       [-0.446,  0.711, -0.092,  0.346,  0.409],\n",
       "       [-0.559, -0.323, -0.048,  0.552, -0.526],\n",
       "       [-0.405, -0.535, -0.418, -0.213,  0.574]])"
      ]
     },
     "execution_count": 126,
     "metadata": {},
     "output_type": "execute_result"
    }
   ],
   "source": [
    "np.round(eigvec, 3)"
   ]
  },
  {
   "cell_type": "code",
   "execution_count": null,
   "metadata": {},
   "outputs": [],
   "source": []
  }
 ],
 "metadata": {
  "kernelspec": {
   "display_name": ".venv",
   "language": "python",
   "name": "python3"
  },
  "language_info": {
   "codemirror_mode": {
    "name": "ipython",
    "version": 3
   },
   "file_extension": ".py",
   "mimetype": "text/x-python",
   "name": "python",
   "nbconvert_exporter": "python",
   "pygments_lexer": "ipython3",
   "version": "3.13.1"
  }
 },
 "nbformat": 4,
 "nbformat_minor": 2
}
