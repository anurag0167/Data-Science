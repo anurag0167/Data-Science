{
 "cells": [
  {
   "cell_type": "markdown",
   "metadata": {},
   "source": [
    "## 1. Importing pandas and creating a DataFrame"
   ]
  },
  {
   "cell_type": "code",
   "execution_count": 1,
   "metadata": {},
   "outputs": [
    {
     "name": "stdout",
     "output_type": "stream",
     "text": [
      "      Name  Age         City\n",
      "0    Alice   24     New York\n",
      "1      Bob   27  Los Angeles\n",
      "2  Charlie   22      Chicago\n",
      "3    David   32        Miami\n"
     ]
    }
   ],
   "source": [
    "import pandas as pd\n",
    "\n",
    "# Creating a simple DataFrame\n",
    "data = {\n",
    "    'Name': ['Alice', 'Bob', 'Charlie', 'David'],\n",
    "    'Age': [24, 27, 22, 32],\n",
    "    'City': ['New York', 'Los Angeles', 'Chicago', 'Miami']\n",
    "}\n",
    "\n",
    "df = pd.DataFrame(data)\n",
    "\n",
    "print(df)"
   ]
  },
  {
   "cell_type": "markdown",
   "metadata": {},
   "source": [
    "## 2. Selecting Data"
   ]
  },
  {
   "cell_type": "code",
   "execution_count": 4,
   "metadata": {},
   "outputs": [
    {
     "name": "stdout",
     "output_type": "stream",
     "text": [
      "0      Alice\n",
      "1        Bob\n",
      "2    Charlie\n",
      "3      David\n",
      "Name: Name, dtype: object\n",
      "--------------------\n",
      "      Name  Age\n",
      "0    Alice   24\n",
      "1      Bob   27\n",
      "2  Charlie   22\n",
      "3    David   32\n",
      "--------------------\n",
      "Name       Alice\n",
      "Age           24\n",
      "City    New York\n",
      "Name: 0, dtype: object\n",
      "      Name  Age         City\n",
      "1      Bob   27  Los Angeles\n",
      "2  Charlie   22      Chicago\n",
      "--------------------\n",
      "Name       Alice\n",
      "Age           24\n",
      "City    New York\n",
      "Name: 0, dtype: object\n"
     ]
    }
   ],
   "source": [
    "# Selecting a single column\n",
    "print(df['Name'])\n",
    "print(\"-\" * 20)\n",
    "# Selecting multiple columns\n",
    "print(df[['Name', 'Age']])\n",
    "print(\"-\" * 20)\n",
    "# Selecting rows by index position using `iloc` (integer-location based indexing)\n",
    "print(df.iloc[0])  # First row\n",
    "print(df.iloc[1:3])  # Rows 1 and 2 (0-indexed)\n",
    "print(\"-\" * 20)\n",
    "# Selecting rows by label using `loc` (label-based indexing)\n",
    "print(df.loc[0])  # First row (using index label)"
   ]
  },
  {
   "cell_type": "markdown",
   "metadata": {},
   "source": [
    "## 3. Basic DataFrame Operations"
   ]
  },
  {
   "cell_type": "code",
   "execution_count": 7,
   "metadata": {},
   "outputs": [
    {
     "name": "stdout",
     "output_type": "stream",
     "text": [
      "26.25\n",
      "105\n",
      "------------------------------\n",
      "    Name  Age         City  Salary\n",
      "1    Bob   27  Los Angeles   60000\n",
      "3  David   32        Miami   65000\n",
      "------------------------------\n",
      "      Name  Age         City  Salary\n",
      "0    Alice   24     New York   50000\n",
      "1      Bob   27  Los Angeles   60000\n",
      "2  Charlie   22      Chicago   55000\n",
      "3    David   32        Miami   65000\n"
     ]
    }
   ],
   "source": [
    "# Basic statistical operations\n",
    "print(df['Age'].mean())  # Mean of 'Age'\n",
    "print(df['Age'].sum())  # Sum of 'Age'\n",
    "print(\"-\"*30)\n",
    "\n",
    "# Filtering data based on conditions\n",
    "print(df[df['Age'] > 25])  # Select rows where Age is greater than 25\n",
    "print(\"-\"*30)\n",
    "\n",
    "# Adding a new column\n",
    "df['Salary'] = [50000, 60000, 55000, 65000]\n",
    "print(df)"
   ]
  },
  {
   "cell_type": "markdown",
   "metadata": {},
   "source": [
    "## 4. Handling Missing Data"
   ]
  },
  {
   "cell_type": "code",
   "execution_count": 9,
   "metadata": {},
   "outputs": [
    {
     "name": "stdout",
     "output_type": "stream",
     "text": [
      "      Name   Age\n",
      "0    Alice  24.0\n",
      "1      Bob   NaN\n",
      "2  Charlie  22.0\n",
      "3     None  32.0\n",
      "------------------------------\n",
      "    Name    Age\n",
      "0  False  False\n",
      "1  False   True\n",
      "2  False  False\n",
      "3   True  False\n",
      "------------------------------\n",
      "      Name   Age\n",
      "0    Alice  24.0\n",
      "2  Charlie  22.0\n",
      "------------------------------\n",
      "      Name   Age\n",
      "0    Alice  24.0\n",
      "1      Bob  26.0\n",
      "2  Charlie  22.0\n",
      "3  Unknown  32.0\n"
     ]
    }
   ],
   "source": [
    "# Creating a DataFrame with missing values\n",
    "data = {\n",
    "    'Name': ['Alice', 'Bob', 'Charlie', None],\n",
    "    'Age': [24, None, 22, 32]\n",
    "}\n",
    "\n",
    "df2 = pd.DataFrame(data)\n",
    "print(df2)\n",
    "print(\"-\" * 30)\n",
    "\n",
    "# Checking for missing values\n",
    "print(df2.isnull())\n",
    "print(\"-\" * 30)\n",
    "\n",
    "# Dropping rows with missing values\n",
    "df2_clean = df2.dropna()\n",
    "print(df2_clean)\n",
    "print(\"-\" * 30)\n",
    "\n",
    "# Filling missing values with a default value\n",
    "df2_filled = df2.fillna({'Name': 'Unknown', 'Age': df2['Age'].mean()})\n",
    "print(df2_filled)"
   ]
  },
  {
   "cell_type": "markdown",
   "metadata": {},
   "source": [
    "## 5. Merging and Concatenating DataFrames"
   ]
  },
  {
   "cell_type": "code",
   "execution_count": 10,
   "metadata": {},
   "outputs": [
    {
     "name": "stdout",
     "output_type": "stream",
     "text": [
      "      Name Country\n",
      "0    Alice     USA\n",
      "1      Bob     USA\n",
      "2  Charlie     USA\n",
      "3    David     USA\n",
      "------------------------------\n",
      "      Name  Age         City  Salary Country\n",
      "0    Alice   24     New York   50000     USA\n",
      "1      Bob   27  Los Angeles   60000     USA\n",
      "2  Charlie   22      Chicago   55000     USA\n",
      "3    David   32        Miami   65000     USA\n",
      "------------------------------\n",
      "      Name   Age         City   Salary Country\n",
      "0    Alice  24.0     New York  50000.0     NaN\n",
      "1      Bob  27.0  Los Angeles  60000.0     NaN\n",
      "2  Charlie  22.0      Chicago  55000.0     NaN\n",
      "3    David  32.0        Miami  65000.0     NaN\n",
      "0    Alice   NaN          NaN      NaN     USA\n",
      "1      Bob   NaN          NaN      NaN     USA\n",
      "2  Charlie   NaN          NaN      NaN     USA\n",
      "3    David   NaN          NaN      NaN     USA\n",
      "------------------------------\n",
      "      Name  Age         City  Salary     Name Country\n",
      "0    Alice   24     New York   50000    Alice     USA\n",
      "1      Bob   27  Los Angeles   60000      Bob     USA\n",
      "2  Charlie   22      Chicago   55000  Charlie     USA\n",
      "3    David   32        Miami   65000    David     USA\n"
     ]
    }
   ],
   "source": [
    "# Creating another DataFrame\n",
    "data2 = {\n",
    "    'Name': ['Alice', 'Bob', 'Charlie', 'David'],\n",
    "    'Country': ['USA', 'USA', 'USA', 'USA']\n",
    "}\n",
    "\n",
    "df3 = pd.DataFrame(data2)\n",
    "print(df3)\n",
    "print(\"-\" * 30)\n",
    "\n",
    "# Merging DataFrames on a common column\n",
    "merged_df = pd.merge(df, df3, on='Name')\n",
    "print(merged_df)\n",
    "print(\"-\" * 30)\n",
    "\n",
    "# Concatenating DataFrames (stacking them vertically)\n",
    "df4 = pd.concat([df, df3], axis=0)  # Stack vertically\n",
    "print(df4)\n",
    "print(\"-\" * 30)\n",
    "\n",
    "# Concatenating DataFrames (stacking them horizontally)\n",
    "df4_horiz = pd.concat([df, df3], axis=1)  # Stack horizontally\n",
    "print(df4_horiz)\n"
   ]
  },
  {
   "cell_type": "markdown",
   "metadata": {},
   "source": [
    "## 6. Grouping and Aggregating Data"
   ]
  },
  {
   "cell_type": "code",
   "execution_count": 14,
   "metadata": {},
   "outputs": [
    {
     "data": {
      "text/html": [
       "<div>\n",
       "<style scoped>\n",
       "    .dataframe tbody tr th:only-of-type {\n",
       "        vertical-align: middle;\n",
       "    }\n",
       "\n",
       "    .dataframe tbody tr th {\n",
       "        vertical-align: top;\n",
       "    }\n",
       "\n",
       "    .dataframe thead th {\n",
       "        text-align: right;\n",
       "    }\n",
       "</style>\n",
       "<table border=\"1\" class=\"dataframe\">\n",
       "  <thead>\n",
       "    <tr style=\"text-align: right;\">\n",
       "      <th></th>\n",
       "      <th>Name</th>\n",
       "      <th>Age</th>\n",
       "      <th>City</th>\n",
       "      <th>Salary</th>\n",
       "    </tr>\n",
       "  </thead>\n",
       "  <tbody>\n",
       "    <tr>\n",
       "      <th>0</th>\n",
       "      <td>Alice</td>\n",
       "      <td>24</td>\n",
       "      <td>New York</td>\n",
       "      <td>50000</td>\n",
       "    </tr>\n",
       "    <tr>\n",
       "      <th>1</th>\n",
       "      <td>Bob</td>\n",
       "      <td>27</td>\n",
       "      <td>Los Angeles</td>\n",
       "      <td>60000</td>\n",
       "    </tr>\n",
       "    <tr>\n",
       "      <th>2</th>\n",
       "      <td>Charlie</td>\n",
       "      <td>22</td>\n",
       "      <td>Chicago</td>\n",
       "      <td>55000</td>\n",
       "    </tr>\n",
       "    <tr>\n",
       "      <th>3</th>\n",
       "      <td>David</td>\n",
       "      <td>32</td>\n",
       "      <td>Miami</td>\n",
       "      <td>65000</td>\n",
       "    </tr>\n",
       "  </tbody>\n",
       "</table>\n",
       "</div>"
      ],
      "text/plain": [
       "      Name  Age         City  Salary\n",
       "0    Alice   24     New York   50000\n",
       "1      Bob   27  Los Angeles   60000\n",
       "2  Charlie   22      Chicago   55000\n",
       "3    David   32        Miami   65000"
      ]
     },
     "execution_count": 14,
     "metadata": {},
     "output_type": "execute_result"
    }
   ],
   "source": [
    "df"
   ]
  },
  {
   "cell_type": "code",
   "execution_count": 18,
   "metadata": {},
   "outputs": [
    {
     "name": "stdout",
     "output_type": "stream",
     "text": [
      "              Age  Salary\n",
      "City                     \n",
      "Chicago      22.0   55000\n",
      "Los Angeles  27.0   60000\n",
      "Miami        32.0   65000\n",
      "New York     24.0   50000\n"
     ]
    }
   ],
   "source": [
    "df_grouped = df.groupby(\"City\")['Salary'].mean()\n",
    "df_grouped = df.groupby('City').mean(numeric_only=True)\n",
    "df.fillna(0, inplace=True)  # Replace NaN with 0\n",
    "df_grouped_agg = df.groupby('City').agg({'Age': 'mean', 'Salary': 'sum'})\n",
    "print(df_grouped_agg)"
   ]
  },
  {
   "cell_type": "markdown",
   "metadata": {},
   "source": [
    "## 7. Pivot Tables and Crosstabs"
   ]
  },
  {
   "cell_type": "code",
   "execution_count": 20,
   "metadata": {},
   "outputs": [
    {
     "name": "stdout",
     "output_type": "stream",
     "text": [
      "              Salary\n",
      "City                \n",
      "Chicago      55000.0\n",
      "Los Angeles  60000.0\n",
      "Miami        65000.0\n",
      "New York     50000.0\n",
      "--------------------\n",
      "Age          False  True \n",
      "City                     \n",
      "Chicago          1      0\n",
      "Los Angeles      0      1\n",
      "Miami            0      1\n",
      "New York         1      0\n"
     ]
    }
   ],
   "source": [
    "# Creating a pivot table\n",
    "pivot = df.pivot_table(values='Salary', index='City', aggfunc='mean')\n",
    "print(pivot)\n",
    "print(\"-\" * 20)\n",
    "# Creating a crosstab (useful for categorical data)\n",
    "crosstab = pd.crosstab(df['City'], df['Age'] > 25)\n",
    "print(crosstab)"
   ]
  },
  {
   "cell_type": "markdown",
   "metadata": {},
   "source": [
    "## 8. Time Series Data"
   ]
  },
  {
   "cell_type": "code",
   "execution_count": 22,
   "metadata": {},
   "outputs": [
    {
     "name": "stdout",
     "output_type": "stream",
     "text": [
      "            Temperature\n",
      "Date                   \n",
      "2025-01-01           30\n",
      "2025-01-02           32\n",
      "2025-01-03           28\n",
      "2025-01-04           27\n",
      "2025-01-05           31\n",
      "--------------------\n",
      "            Temperature\n",
      "Date                   \n",
      "2025-01-31         29.6\n"
     ]
    }
   ],
   "source": [
    "# Create a DataFrame with dates\n",
    "dates = pd.date_range('2025-01-01', periods=5, freq='D')\n",
    "data = {'Date': dates, 'Temperature': [30, 32, 28, 27, 31]}\n",
    "df_time = pd.DataFrame(data)\n",
    "\n",
    "# Set Date as index\n",
    "df_time.set_index('Date', inplace=True)\n",
    "print(df_time)\n",
    "print(\"-\" * 20)\n",
    "\n",
    "# Resampling time series data (e.g., daily to monthly)\n",
    "df_resampled = df_time.resample('ME').mean()\n",
    "print(df_resampled)"
   ]
  },
  {
   "cell_type": "markdown",
   "metadata": {},
   "source": [
    "## 9. Advanced DataFrame Operations"
   ]
  },
  {
   "cell_type": "code",
   "execution_count": 23,
   "metadata": {},
   "outputs": [
    {
     "name": "stdout",
     "output_type": "stream",
     "text": [
      "      Name  Age         City  Salary AgeCategory\n",
      "0    Alice   24     New York   50000       Young\n",
      "1      Bob   27  Los Angeles   60000       Adult\n",
      "2  Charlie   22      Chicago   55000       Young\n",
      "3    David   32        Miami   65000      Mature\n",
      "--------------------\n",
      "      Name  Age         City  Salary AgeCategory  SalaryPlusBonus\n",
      "0    Alice   24     New York   50000       Young          55000.0\n",
      "1      Bob   27  Los Angeles   60000       Adult          66000.0\n",
      "2  Charlie   22      Chicago   55000       Young          60500.0\n",
      "3    David   32        Miami   65000      Mature          71500.0\n"
     ]
    }
   ],
   "source": [
    "# Apply a custom function to a column\n",
    "def categorize_age(age):\n",
    "    if age < 25:\n",
    "        return 'Young'\n",
    "    elif age < 30:\n",
    "        return 'Adult'\n",
    "    else:\n",
    "        return 'Mature'\n",
    "\n",
    "df['AgeCategory'] = df['Age'].apply(categorize_age)\n",
    "print(df)\n",
    "print(\"-\" * 20)\n",
    "\n",
    "# Applying a lambda function\n",
    "df['SalaryPlusBonus'] = df['Salary'].apply(lambda x: x * 1.1)\n",
    "print(df)"
   ]
  },
  {
   "cell_type": "markdown",
   "metadata": {},
   "source": [
    "## 10. Visualizing Data"
   ]
  },
  {
   "cell_type": "code",
   "execution_count": 24,
   "metadata": {},
   "outputs": [
    {
     "data": {
      "image/png": "[encoded data removed]",
      "text/plain": [
       "<Figure size 640x480 with 1 Axes>"
      ]
     },
     "metadata": {},
     "output_type": "display_data"
    }
   ],
   "source": [
    "import matplotlib.pyplot as plt\n",
    "\n",
    "# Plotting a column (Salary) over time\n",
    "df_time['Temperature'].plot(kind='line', title=\"Temperature Over Time\")\n",
    "plt.xlabel('Date')\n",
    "plt.ylabel('Temperature')\n",
    "plt.show()"
   ]
  },
  {
   "cell_type": "code",
   "execution_count": null,
   "metadata": {},
   "outputs": [],
   "source": []
  }
 ],
 "metadata": {
  "kernelspec": {
   "display_name": ".venv",
   "language": "python",
   "name": "python3"
  },
  "language_info": {
   "codemirror_mode": {
    "name": "ipython",
    "version": 3
   },
   "file_extension": ".py",
   "mimetype": "text/x-python",
   "name": "python",
   "nbconvert_exporter": "python",
   "pygments_lexer": "ipython3",
   "version": "3.13.1"
  }
 },
 "nbformat": 4,
 "nbformat_minor": 2
}
